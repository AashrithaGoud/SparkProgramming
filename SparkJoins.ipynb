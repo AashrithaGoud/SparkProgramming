{
 "cells": [
  {
   "cell_type": "code",
   "execution_count": 0,
   "metadata": {
    "application/vnd.databricks.v1+cell": {
     "cellMetadata": {
      "byteLimit": 2048000,
      "rowLimit": 10000
     },
     "inputWidgets": {},
     "nuid": "e013faaa-f6dc-4366-a538-ca3db5955758",
     "showTitle": false,
     "title": ""
    }
   },
   "outputs": [],
   "source": [
    "from pyspark.sql import *\n",
    "from pyspark.sql.functions import expr, exp"
   ]
  },
  {
   "cell_type": "code",
   "execution_count": 0,
   "metadata": {
    "application/vnd.databricks.v1+cell": {
     "cellMetadata": {
      "byteLimit": 2048000,
      "rowLimit": 10000
     },
     "inputWidgets": {},
     "nuid": "78dc9d4d-0226-46dd-b936-462856c92af6",
     "showTitle": false,
     "title": ""
    }
   },
   "outputs": [],
   "source": [
    "orders_list = [(\"01\", \"02\", 350, 1),\n",
    "                   (\"01\", \"04\", 580, 1),\n",
    "                   (\"01\", \"07\", 320, 2),\n",
    "                   (\"02\", \"03\", 450, 1),\n",
    "                   (\"02\", \"06\", 220, 1),\n",
    "                   (\"03\", \"01\", 195, 1),\n",
    "                   (\"04\", \"09\", 270, 3),\n",
    "                   (\"04\", \"08\", 410, 2),\n",
    "                   (\"05\", \"02\", 350, 1)]"
   ]
  },
  {
   "cell_type": "code",
   "execution_count": 0,
   "metadata": {
    "application/vnd.databricks.v1+cell": {
     "cellMetadata": {
      "byteLimit": 2048000,
      "rowLimit": 10000
     },
     "inputWidgets": {},
     "nuid": "e834b4eb-66fa-4a33-b8c6-539ace5e715c",
     "showTitle": false,
     "title": ""
    }
   },
   "outputs": [],
   "source": [
    "product_list = [(\"01\", \"Scroll Mouse\", 250, 20),\n",
    "                    (\"02\", \"Optical Mouse\", 350, 20),\n",
    "                    (\"03\", \"Wireless Mouse\", 450, 50),\n",
    "                    (\"04\", \"Wireless Keyboard\", 580, 50),\n",
    "                    (\"05\", \"Standard Keyboard\", 360, 10),\n",
    "                    (\"06\", \"16 GB Flash Storage\", 240, 100),\n",
    "                    (\"07\", \"32 GB Flash Storage\", 320, 50),\n",
    "                    (\"08\", \"64 GB Flash Storage\", 430, 25)]"
   ]
  },
  {
   "cell_type": "code",
   "execution_count": 0,
   "metadata": {
    "application/vnd.databricks.v1+cell": {
     "cellMetadata": {
      "byteLimit": 2048000,
      "rowLimit": 10000
     },
     "inputWidgets": {},
     "nuid": "dfffc4d6-9d6c-45ee-979a-d9f2f0f6d21e",
     "showTitle": false,
     "title": ""
    }
   },
   "outputs": [],
   "source": [
    "order_df=spark.createDataFrame(orders_list).toDF(\"order_id\", \"prod_id\", \"unit_price\", \"qty\")\n",
    "product_df=spark.createDataFrame(product_list).toDF(\"prod_id\",\"prod_name\",\"list_price\",\"qty\")"
   ]
  },
  {
   "cell_type": "code",
   "execution_count": 0,
   "metadata": {
    "application/vnd.databricks.v1+cell": {
     "cellMetadata": {
      "byteLimit": 2048000,
      "rowLimit": 10000
     },
     "inputWidgets": {},
     "nuid": "8bb08804-80c5-4dcb-adc2-d37c7c55e905",
     "showTitle": false,
     "title": ""
    }
   },
   "outputs": [
    {
     "output_type": "stream",
     "name": "stdout",
     "output_type": "stream",
     "text": [
      "+--------+-------+----------+---+\n|order_id|prod_id|unit_price|qty|\n+--------+-------+----------+---+\n|      01|     02|       350|  1|\n|      01|     04|       580|  1|\n|      01|     07|       320|  2|\n|      02|     03|       450|  1|\n|      02|     06|       220|  1|\n|      03|     01|       195|  1|\n|      04|     09|       270|  3|\n|      04|     08|       410|  2|\n|      05|     02|       350|  1|\n+--------+-------+----------+---+\n\n+-------+-------------------+----------+---+\n|prod_id|          prod_name|list_price|qty|\n+-------+-------------------+----------+---+\n|     01|       Scroll Mouse|       250| 20|\n|     02|      Optical Mouse|       350| 20|\n|     03|     Wireless Mouse|       450| 50|\n|     04|  Wireless Keyboard|       580| 50|\n|     05|  Standard Keyboard|       360| 10|\n|     06|16 GB Flash Storage|       240|100|\n|     07|32 GB Flash Storage|       320| 50|\n|     08|64 GB Flash Storage|       430| 25|\n+-------+-------------------+----------+---+\n\n"
     ]
    }
   ],
   "source": [
    "order_df.show()\n",
    "product_df.show()"
   ]
  },
  {
   "cell_type": "code",
   "execution_count": 0,
   "metadata": {
    "application/vnd.databricks.v1+cell": {
     "cellMetadata": {
      "byteLimit": 2048000,
      "rowLimit": 10000
     },
     "inputWidgets": {},
     "nuid": "25b3aa11-76c6-4f65-9ebc-a1fc8c5760e0",
     "showTitle": false,
     "title": ""
    }
   },
   "outputs": [],
   "source": [
    "join_df=order_df.join(product_df, order_df.prod_id==product_df.prod_id,\"inner\")"
   ]
  },
  {
   "cell_type": "code",
   "execution_count": 0,
   "metadata": {
    "application/vnd.databricks.v1+cell": {
     "cellMetadata": {
      "byteLimit": 2048000,
      "rowLimit": 10000
     },
     "inputWidgets": {},
     "nuid": "7ed112c4-e471-43ab-9b20-ec7f64b020bc",
     "showTitle": false,
     "title": ""
    }
   },
   "outputs": [
    {
     "output_type": "stream",
     "name": "stdout",
     "output_type": "stream",
     "text": [
      "+--------+-------+----------+---+-------+-------------------+----------+---+\n|order_id|prod_id|unit_price|qty|prod_id|          prod_name|list_price|qty|\n+--------+-------+----------+---+-------+-------------------+----------+---+\n|      03|     01|       195|  1|     01|       Scroll Mouse|       250| 20|\n|      01|     02|       350|  1|     02|      Optical Mouse|       350| 20|\n|      05|     02|       350|  1|     02|      Optical Mouse|       350| 20|\n|      02|     03|       450|  1|     03|     Wireless Mouse|       450| 50|\n|      01|     04|       580|  1|     04|  Wireless Keyboard|       580| 50|\n|      02|     06|       220|  1|     06|16 GB Flash Storage|       240|100|\n|      01|     07|       320|  2|     07|32 GB Flash Storage|       320| 50|\n|      04|     08|       410|  2|     08|64 GB Flash Storage|       430| 25|\n+--------+-------+----------+---+-------+-------------------+----------+---+\n\n"
     ]
    }
   ],
   "source": [
    "join_df.show()"
   ]
  }
 ],
 "metadata": {
  "application/vnd.databricks.v1+notebook": {
   "dashboards": [],
   "language": "python",
   "notebookMetadata": {
    "pythonIndentUnit": 4
   },
   "notebookName": "SparkJoins",
   "widgets": {}
  }
 },
 "nbformat": 4,
 "nbformat_minor": 0
}
