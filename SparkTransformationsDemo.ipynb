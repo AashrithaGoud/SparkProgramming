{
 "cells": [
  {
   "cell_type": "code",
   "execution_count": 0,
   "metadata": {
    "application/vnd.databricks.v1+cell": {
     "cellMetadata": {
      "byteLimit": 2048000,
      "rowLimit": 10000
     },
     "inputWidgets": {},
     "nuid": "0e58763d-41c8-4169-8762-bca5a3ff39d7",
     "showTitle": false,
     "title": ""
    }
   },
   "outputs": [],
   "source": [
    "import pyspark\n",
    "from pyspark.sql import *\n",
    "from pyspark.sql.functions import *\n",
    "from pyspark.sql.types import *"
   ]
  },
  {
   "cell_type": "code",
   "execution_count": 0,
   "metadata": {
    "application/vnd.databricks.v1+cell": {
     "cellMetadata": {
      "byteLimit": 2048000,
      "rowLimit": 10000
     },
     "inputWidgets": {},
     "nuid": "bbe3dd7e-458a-4357-b78b-9616bec20983",
     "showTitle": false,
     "title": ""
    }
   },
   "outputs": [],
   "source": [
    "spark = SparkSession.builder\\\n",
    "        .master(\"local[3]\")\\\n",
    "        .appName(\"Demo\")\\\n",
    "        .getOrCreate()"
   ]
  },
  {
   "cell_type": "code",
   "execution_count": 0,
   "metadata": {
    "application/vnd.databricks.v1+cell": {
     "cellMetadata": {
      "byteLimit": 2048000,
      "rowLimit": 10000
     },
     "inputWidgets": {},
     "nuid": "93ff3c5f-a026-4617-a4c0-2e1a115c56dd",
     "showTitle": false,
     "title": ""
    }
   },
   "outputs": [],
   "source": [
    "data_list = [(\"Ravi\", \"28\", \"1\", \"2002\"),\n",
    "             (\"Abdul\", \"23\", \"5\", \"81\"), \n",
    "             (\"John\", \"12\", \"12\", \"6\"), \n",
    "             (\"Rosy\", \"7\", \"8\", \"63\"), \n",
    "             (\"Abdul\", \"23\", \"5\", \"81\") \n",
    "            ]"
   ]
  },
  {
   "cell_type": "markdown",
   "metadata": {
    "application/vnd.databricks.v1+cell": {
     "cellMetadata": {},
     "inputWidgets": {},
     "nuid": "3c217224-b475-45fe-bf9c-c8bbd20f4ae8",
     "showTitle": false,
     "title": ""
    }
   },
   "source": [
    "### creating Dataframe from a python list\n"
   ]
  },
  {
   "cell_type": "code",
   "execution_count": 0,
   "metadata": {
    "application/vnd.databricks.v1+cell": {
     "cellMetadata": {
      "byteLimit": 2048000,
      "rowLimit": 10000
     },
     "inputWidgets": {},
     "nuid": "3ce503de-ce4c-4d78-852f-ccff01bc65f4",
     "showTitle": false,
     "title": ""
    }
   },
   "outputs": [],
   "source": [
    "data=spark.createDataFrame(data_list)"
   ]
  },
  {
   "cell_type": "code",
   "execution_count": 0,
   "metadata": {
    "application/vnd.databricks.v1+cell": {
     "cellMetadata": {
      "byteLimit": 2048000,
      "rowLimit": 10000
     },
     "inputWidgets": {},
     "nuid": "a7492d60-d7da-4dcd-848f-ab211d632262",
     "showTitle": false,
     "title": ""
    }
   },
   "outputs": [
    {
     "output_type": "stream",
     "name": "stdout",
     "output_type": "stream",
     "text": [
      "+-----+---+---+----+\n|   _1| _2| _3|  _4|\n+-----+---+---+----+\n| Ravi| 28|  1|2002|\n|Abdul| 23|  5|  81|\n| John| 12| 12|   6|\n| Rosy|  7|  8|  63|\n|Abdul| 23|  5|  81|\n+-----+---+---+----+\n\n"
     ]
    }
   ],
   "source": [
    "data.show()"
   ]
  },
  {
   "cell_type": "markdown",
   "metadata": {
    "application/vnd.databricks.v1+cell": {
     "cellMetadata": {},
     "inputWidgets": {},
     "nuid": "6bf55e7b-25d4-47ca-8c43-646135796979",
     "showTitle": false,
     "title": ""
    }
   },
   "source": [
    "##### In the above row we don't have columns/ To add columns :\n"
   ]
  },
  {
   "cell_type": "code",
   "execution_count": 0,
   "metadata": {
    "application/vnd.databricks.v1+cell": {
     "cellMetadata": {
      "byteLimit": 2048000,
      "rowLimit": 10000
     },
     "inputWidgets": {},
     "nuid": "d21869ab-81eb-45ef-95fd-3ff01e2c1ef0",
     "showTitle": false,
     "title": ""
    }
   },
   "outputs": [],
   "source": [
    "dataframe=data.toDF(\"name\", \"day\", \"month\", \"year\").repartition(2)"
   ]
  },
  {
   "cell_type": "code",
   "execution_count": 0,
   "metadata": {
    "application/vnd.databricks.v1+cell": {
     "cellMetadata": {
      "byteLimit": 2048000,
      "rowLimit": 10000
     },
     "inputWidgets": {},
     "nuid": "9823775a-dd4d-4701-a580-0dbd7d75895b",
     "showTitle": false,
     "title": ""
    }
   },
   "outputs": [
    {
     "output_type": "stream",
     "name": "stdout",
     "output_type": "stream",
     "text": [
      "+-----+---+-----+----+\n| name|day|month|year|\n+-----+---+-----+----+\n| Ravi| 28|    1|2002|\n|Abdul| 23|    5|  81|\n| John| 12|   12|   6|\n| Rosy|  7|    8|  63|\n|Abdul| 23|    5|  81|\n+-----+---+-----+----+\n\n"
     ]
    }
   ],
   "source": [
    "dataframe.show()"
   ]
  },
  {
   "cell_type": "code",
   "execution_count": 0,
   "metadata": {
    "application/vnd.databricks.v1+cell": {
     "cellMetadata": {
      "byteLimit": 2048000,
      "rowLimit": 10000
     },
     "inputWidgets": {},
     "nuid": "0f7fcb9f-83a0-4c11-ab01-6ce36a012c14",
     "showTitle": false,
     "title": ""
    }
   },
   "outputs": [
    {
     "output_type": "stream",
     "name": "stdout",
     "output_type": "stream",
     "text": [
      "root\n |-- name: string (nullable = true)\n |-- day: string (nullable = true)\n |-- month: string (nullable = true)\n |-- year: string (nullable = true)\n\n"
     ]
    }
   ],
   "source": [
    "dataframe.printSchema()"
   ]
  },
  {
   "cell_type": "code",
   "execution_count": 0,
   "metadata": {
    "application/vnd.databricks.v1+cell": {
     "cellMetadata": {
      "byteLimit": 2048000,
      "rowLimit": 10000
     },
     "inputWidgets": {},
     "nuid": "9a1edb58-fd84-4dcf-8233-7f9e9be917c8",
     "showTitle": false,
     "title": ""
    }
   },
   "outputs": [],
   "source": [
    "df=dataframe.withColumn(\"Id\", monotonically_increasing_id())"
   ]
  },
  {
   "cell_type": "code",
   "execution_count": 0,
   "metadata": {
    "application/vnd.databricks.v1+cell": {
     "cellMetadata": {
      "byteLimit": 2048000,
      "rowLimit": 10000
     },
     "inputWidgets": {},
     "nuid": "9fe52310-314f-4f4d-877b-992c7c16d878",
     "showTitle": false,
     "title": ""
    }
   },
   "outputs": [
    {
     "output_type": "stream",
     "name": "stdout",
     "output_type": "stream",
     "text": [
      "+-----+---+-----+----+-----------+\n| name|day|month|year|         Id|\n+-----+---+-----+----+-----------+\n| Ravi| 28|    1|2002|          0|\n|Abdul| 23|    5|  81| 8589934592|\n| John| 12|   12|   6|17179869184|\n| Rosy|  7|    8|  63|25769803776|\n|Abdul| 23|    5|  81|25769803777|\n+-----+---+-----+----+-----------+\n\n"
     ]
    }
   ],
   "source": [
    "df.show()"
   ]
  },
  {
   "cell_type": "code",
   "execution_count": 0,
   "metadata": {
    "application/vnd.databricks.v1+cell": {
     "cellMetadata": {
      "byteLimit": 2048000,
      "rowLimit": 10000
     },
     "inputWidgets": {},
     "nuid": "44b5ce1d-7287-4080-888c-a7d4736fdf46",
     "showTitle": false,
     "title": ""
    }
   },
   "outputs": [],
   "source": [
    "year_df=df.withColumn(\"year\", expr(\"\"\"\n",
    "        case when year < 21 then year + 2000\n",
    "        when year < 100 then year + 1900\n",
    "        else year\n",
    "        end\"\"\"))"
   ]
  },
  {
   "cell_type": "code",
   "execution_count": 0,
   "metadata": {
    "application/vnd.databricks.v1+cell": {
     "cellMetadata": {
      "byteLimit": 2048000,
      "rowLimit": 10000
     },
     "inputWidgets": {},
     "nuid": "cf57028c-72ab-4c79-88b3-c1887a62019a",
     "showTitle": false,
     "title": ""
    }
   },
   "outputs": [
    {
     "output_type": "stream",
     "name": "stdout",
     "output_type": "stream",
     "text": [
      "+-----+---+-----+------+-----------+\n| name|day|month|  year|         Id|\n+-----+---+-----+------+-----------+\n| Ravi| 28|    1|  2002|          0|\n|Abdul| 23|    5|1981.0| 8589934592|\n| John| 12|   12|2006.0|17179869184|\n| Rosy|  7|    8|1963.0|25769803776|\n|Abdul| 23|    5|1981.0|25769803777|\n+-----+---+-----+------+-----------+\n\n"
     ]
    }
   ],
   "source": [
    "year_df.show()"
   ]
  },
  {
   "cell_type": "markdown",
   "metadata": {
    "application/vnd.databricks.v1+cell": {
     "cellMetadata": {},
     "inputWidgets": {},
     "nuid": "3003dfa4-028a-42e6-87d5-6cd353915f2f",
     "showTitle": false,
     "title": ""
    }
   },
   "source": [
    "###### as we have decimal values in the year column / Casting the column resolves the issues.\n",
    "There are two types to change :\n",
    "1. Cast (\"col\" as datatype) - in this case only values get changed to int but the schema remains as stringtype\n",
    "2. df.withColumn(\"col\", \"col2\").cast(IntegerType()) - in the both the values and the schema changes to integer."
   ]
  },
  {
   "cell_type": "code",
   "execution_count": 0,
   "metadata": {
    "application/vnd.databricks.v1+cell": {
     "cellMetadata": {
      "byteLimit": 2048000,
      "rowLimit": 10000
     },
     "inputWidgets": {},
     "nuid": "c0103011-fd3b-4b7f-abc3-30bc7c3a6890",
     "showTitle": false,
     "title": ""
    }
   },
   "outputs": [],
   "source": [
    "year_df=df.withColumn(\"year\", expr(\"\"\"\n",
    "        case when year < 21 then cast(year as int) + 2000\n",
    "        when year < 100 then cast(year as int) + 1900\n",
    "        else year\n",
    "        end\"\"\"))"
   ]
  },
  {
   "cell_type": "code",
   "execution_count": 0,
   "metadata": {
    "application/vnd.databricks.v1+cell": {
     "cellMetadata": {
      "byteLimit": 2048000,
      "rowLimit": 10000
     },
     "inputWidgets": {},
     "nuid": "8f724d26-034f-4438-82d3-1612946b40f6",
     "showTitle": false,
     "title": ""
    }
   },
   "outputs": [
    {
     "output_type": "stream",
     "name": "stdout",
     "output_type": "stream",
     "text": [
      "+-----+---+-----+----+-----------+\n| name|day|month|year|         Id|\n+-----+---+-----+----+-----------+\n| Ravi| 28|    1|2002|          0|\n|Abdul| 23|    5|1981| 8589934592|\n| John| 12|   12|2006|17179869184|\n| Rosy|  7|    8|1963|25769803776|\n|Abdul| 23|    5|1981|25769803777|\n+-----+---+-----+----+-----------+\n\n"
     ]
    }
   ],
   "source": [
    "year_df.show()"
   ]
  },
  {
   "cell_type": "code",
   "execution_count": 0,
   "metadata": {
    "application/vnd.databricks.v1+cell": {
     "cellMetadata": {
      "byteLimit": 2048000,
      "rowLimit": 10000
     },
     "inputWidgets": {},
     "nuid": "941064d8-abbc-4cdd-a058-e27c2688e91b",
     "showTitle": false,
     "title": ""
    }
   },
   "outputs": [],
   "source": [
    "schema_year_df=df.withColumn(\"year\", expr(\"\"\"\n",
    "                case when year < 21 then year + 2000\n",
    "                when year < 100 then year + 1900\n",
    "                else year\n",
    "end\"\"\").cast(IntegerType()))"
   ]
  },
  {
   "cell_type": "code",
   "execution_count": 0,
   "metadata": {
    "application/vnd.databricks.v1+cell": {
     "cellMetadata": {
      "byteLimit": 2048000,
      "rowLimit": 10000
     },
     "inputWidgets": {},
     "nuid": "88005ea2-608e-48f7-b17e-3eb7ce1c0761",
     "showTitle": false,
     "title": ""
    }
   },
   "outputs": [
    {
     "output_type": "stream",
     "name": "stdout",
     "output_type": "stream",
     "text": [
      "root\n |-- name: string (nullable = true)\n |-- day: string (nullable = true)\n |-- month: string (nullable = true)\n |-- year: integer (nullable = true)\n |-- Id: long (nullable = false)\n\n"
     ]
    }
   ],
   "source": [
    "schema_year_df.printSchema()"
   ]
  },
  {
   "cell_type": "markdown",
   "metadata": {
    "application/vnd.databricks.v1+cell": {
     "cellMetadata": {},
     "inputWidgets": {},
     "nuid": "70c4e41b-0ed5-4b62-8383-9334bc1c0567",
     "showTitle": false,
     "title": ""
    }
   },
   "source": [
    "#####inorder to cast both values and schema for a specific column"
   ]
  },
  {
   "cell_type": "code",
   "execution_count": 0,
   "metadata": {
    "application/vnd.databricks.v1+cell": {
     "cellMetadata": {
      "byteLimit": 2048000,
      "rowLimit": 10000
     },
     "inputWidgets": {},
     "nuid": "cc0dd92b-1671-4e04-8748-f0b2cb8f4b96",
     "showTitle": false,
     "title": ""
    }
   },
   "outputs": [],
   "source": [
    "specific_df_col=df.withColumn(\"day\", col(\"day\").cast(IntegerType()))\\\n",
    "  .withColumn(\"month\", col(\"month\").cast(IntegerType()))\\\n",
    "  .withColumn(\"year\", col(\"year\").cast(IntegerType()))"
   ]
  },
  {
   "cell_type": "markdown",
   "metadata": {
    "application/vnd.databricks.v1+cell": {
     "cellMetadata": {},
     "inputWidgets": {},
     "nuid": "da7190ff-37e5-44e7-8502-5058ca15b8c3",
     "showTitle": false,
     "title": ""
    }
   },
   "source": [
    "##### when  and otherwise functions"
   ]
  },
  {
   "cell_type": "code",
   "execution_count": 0,
   "metadata": {
    "application/vnd.databricks.v1+cell": {
     "cellMetadata": {
      "byteLimit": 2048000,
      "rowLimit": 10000
     },
     "inputWidgets": {},
     "nuid": "b8ef7e64-328f-4a30-baa9-f6807cec9c23",
     "showTitle": false,
     "title": ""
    }
   },
   "outputs": [],
   "source": [
    "when_func_df=specific_df_col.withColumn(\"year\", \\\n",
    "                    when(col(\"year\") < 21, col(\"year\") + 2000) \\\n",
    "                    .when(col(\"year\") < 100, col(\"year\") + 1900) \\\n",
    "                    .otherwise(col(\"year\")))\n",
    "                           "
   ]
  },
  {
   "cell_type": "markdown",
   "metadata": {
    "application/vnd.databricks.v1+cell": {
     "cellMetadata": {},
     "inputWidgets": {},
     "nuid": "1f8acac9-a1ff-44d0-82e6-5528ca107410",
     "showTitle": false,
     "title": ""
    }
   },
   "source": [
    "##### concat day/ Month/ Year"
   ]
  },
  {
   "cell_type": "code",
   "execution_count": 0,
   "metadata": {
    "application/vnd.databricks.v1+cell": {
     "cellMetadata": {
      "byteLimit": 2048000,
      "rowLimit": 10000
     },
     "inputWidgets": {},
     "nuid": "0a801b5e-5c14-4033-a280-06291d56a073",
     "showTitle": false,
     "title": ""
    }
   },
   "outputs": [
    {
     "output_type": "stream",
     "name": "stdout",
     "output_type": "stream",
     "text": [
      "+-----+---+-----+----+-----------+----------+\n| name|day|month|year|         Id|       dob|\n+-----+---+-----+----+-----------+----------+\n| Ravi| 28|    1|2002|          0|2002-01-28|\n|Abdul| 23|    5|1981| 8589934592|1981-01-23|\n| John| 12|   12|2006|17179869184|2006-01-12|\n| Rosy|  7|    8|1963|25769803776|1963-01-07|\n|Abdul| 23|    5|1981|25769803777|1981-01-23|\n+-----+---+-----+----+-----------+----------+\n\n"
     ]
    }
   ],
   "source": [
    "dob_df=when_func_df.withColumn(\"dob\",expr(\"to_date(concat(day,'/',month,'/',year),'d/m/y')\"))\n",
    "dob_df.show()"
   ]
  },
  {
   "cell_type": "code",
   "execution_count": 0,
   "metadata": {
    "application/vnd.databricks.v1+cell": {
     "cellMetadata": {
      "byteLimit": 2048000,
      "rowLimit": 10000
     },
     "inputWidgets": {},
     "nuid": "6c41541e-e9d9-4f3a-bbce-ec9339334493",
     "showTitle": false,
     "title": ""
    }
   },
   "outputs": [],
   "source": [
    "final_df=dob_df.drop(\"day\",\"month\",\"year\")\\\n",
    "    .drop_duplicates([\"name\",\"dob\"])"
   ]
  },
  {
   "cell_type": "code",
   "execution_count": 0,
   "metadata": {
    "application/vnd.databricks.v1+cell": {
     "cellMetadata": {
      "byteLimit": 2048000,
      "rowLimit": 10000
     },
     "inputWidgets": {},
     "nuid": "0e409d50-7246-44cb-af94-dbf80cb9bc97",
     "showTitle": false,
     "title": ""
    }
   },
   "outputs": [
    {
     "output_type": "stream",
     "name": "stdout",
     "output_type": "stream",
     "text": [
      "+-----+-----------+----------+\n| name|         Id|       dob|\n+-----+-----------+----------+\n| Ravi|          0|2002-01-28|\n|Abdul| 8589934592|1981-01-23|\n| John|17179869184|2006-01-12|\n| Rosy|25769803776|1963-01-07|\n+-----+-----------+----------+\n\n"
     ]
    }
   ],
   "source": [
    "final_df.show()"
   ]
  }
 ],
 "metadata": {
  "application/vnd.databricks.v1+notebook": {
   "dashboards": [],
   "language": "python",
   "notebookMetadata": {
    "pythonIndentUnit": 4
   },
   "notebookName": "SparkTransformationsDemo",
   "widgets": {}
  }
 },
 "nbformat": 4,
 "nbformat_minor": 0
}
